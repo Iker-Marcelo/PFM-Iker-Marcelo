{
  "nbformat": 4,
  "nbformat_minor": 0,
  "metadata": {
    "colab": {
      "provenance": []
    },
    "kernelspec": {
      "name": "python3",
      "display_name": "Python 3"
    },
    "language_info": {
      "name": "python"
    }
  },
  "cells": [
    {
      "cell_type": "code",
      "source": [
        "!pip install --upgrade \\\n",
        "  torch==2.6.0+cu124 torchvision==0.15.2+cu124 torchaudio==2.6.0+cu124 \\\n",
        "  --extra-index-url https://download.pytorch.org/whl/cu124\n",
        "\n",
        "!pip install --upgrade \\\n",
        "  discopy>=1.1.0 \\\n",
        "  lambeq \\\n",
        "  pennylane pennylane-lightning \\\n",
        "  networkx\n"
      ],
      "metadata": {
        "colab": {
          "base_uri": "https://localhost:8080/"
        },
        "id": "-MV4ClZbmXAv",
        "outputId": "604b513b-036b-4950-e752-70ff17293db2"
      },
      "execution_count": null,
      "outputs": [
        {
          "output_type": "stream",
          "name": "stdout",
          "text": [
            "Looking in indexes: https://pypi.org/simple, https://download.pytorch.org/whl/cu124\n",
            "Requirement already satisfied: torch==2.6.0+cu124 in /usr/local/lib/python3.11/dist-packages (2.6.0+cu124)\n",
            "\u001b[31mERROR: Ignored the following yanked versions: 0.1.6, 0.1.7, 0.1.8, 0.1.9, 0.2.0, 0.2.1, 0.2.2, 0.2.2.post2, 0.2.2.post3, 0.15.0\u001b[0m\u001b[31m\n",
            "\u001b[0m\u001b[31mERROR: Could not find a version that satisfies the requirement torchvision==0.15.2+cu124 (from versions: 0.1.6, 0.2.0, 0.15.1, 0.15.2, 0.16.0, 0.16.1, 0.16.2, 0.17.0, 0.17.1, 0.17.2, 0.18.0, 0.18.1, 0.19.0, 0.19.0+cu124, 0.19.1, 0.19.1+cu124, 0.20.0, 0.20.0+cu124, 0.20.1, 0.20.1+cu124, 0.21.0, 0.21.0+cu124, 0.22.0, 0.22.1)\u001b[0m\u001b[31m\n",
            "\u001b[0m\u001b[31mERROR: No matching distribution found for torchvision==0.15.2+cu124\u001b[0m\u001b[31m\n",
            "\u001b[0m"
          ]
        }
      ]
    },
    {
      "cell_type": "code",
      "source": [
        "import random\n",
        "import torch\n",
        "import torch.nn as nn\n",
        "import torch.optim as optim\n",
        "import numpy as np\n",
        "from sklearn.metrics import accuracy_score\n",
        "import pennylane as qml\n",
        "import matplotlib.pyplot as plt\n",
        "from pennylane import draw_mpl\n",
        "\n",
        "vocabulario = ['la', 'computación', 'cuántica', 'procesa', 'información',\n",
        "               'nlp', 'texto', 'modelo', 'entrena', 'el', 'clásica']\n",
        "corpus = [\n",
        "    ['la', 'computación', 'cuántica', 'procesa', 'información'],\n",
        "    ['el', 'modelo', 'entrena', 'nlp'],\n",
        "    ['nlp', 'procesa', 'el', 'texto'],\n",
        "    ['la', 'información', 'entrena', 'nlp'],\n",
        "    ['el', 'texto', 'procesa', 'modelo'],\n",
        "    ['la', 'computación', 'nlp', 'modelo'],\n",
        "    ['el', 'modelo', 'procesa', 'información'],\n",
        "    ['la', 'información', 'texto', 'procesa'],\n",
        "    ['computación', 'entrena', 'nlp', 'modelo'],\n",
        "    ['el', 'texto', 'entrena', 'información']\n",
        "]\n",
        "vocab_size = len(vocabulario)\n",
        "word2idx = {w: i for i, w in enumerate(vocabulario)}\n",
        "idx2word = {i: w for i, w in enumerate(vocabulario)}\n",
        "\n",
        "def generar_datos(corpus, tam_contexto=3):\n",
        "    ejemplos = []\n",
        "    for frase in corpus:\n",
        "        for i in range(len(frase) - tam_contexto):\n",
        "            entrada = frase[i:i+tam_contexto]\n",
        "            salida = frase[i+tam_contexto]\n",
        "            ejemplos.append((entrada, salida))\n",
        "    return ejemplos\n",
        "\n",
        "train_examples = generar_datos(corpus, tam_contexto=3)\n",
        "test_examples = random.sample(train_examples, k=10)\n",
        "\n",
        "def phrase_to_tensor(phrase):\n",
        "    return torch.eye(vocab_size)[[word2idx[w] for w in phrase]]\n",
        "\n",
        "def label_to_tensor(label):\n",
        "    return torch.tensor([word2idx[label]])\n",
        "\n",
        "class LSTM_Generator(nn.Module):\n",
        "    def __init__(self, input_size, hidden_size, vocab_size):\n",
        "        super().__init__()\n",
        "        self.lstm = nn.LSTM(input_size=input_size, hidden_size=hidden_size, batch_first=True)\n",
        "        self.decoder = nn.Linear(hidden_size, vocab_size)\n",
        "    def forward(self, input_seq):\n",
        "        input_seq = input_seq.unsqueeze(0)\n",
        "        out, _ = self.lstm(input_seq)\n",
        "        final_hidden = out[0, -1]\n",
        "        return self.decoder(final_hidden)\n",
        "\n",
        "n_qubits = 3\n",
        "dev_hybrid = qml.device('default.qubit', wires=n_qubits)\n",
        "\n",
        "@qml.qnode(dev_hybrid, interface='torch')\n",
        "def qlstm_circuit(inputs, weights):\n",
        "    for i in range(n_qubits):\n",
        "        qml.RY(inputs[i], wires=i)\n",
        "        qml.Rot(*weights[i], wires=i)\n",
        "    qml.CNOT(wires=[0, 1])\n",
        "    qml.CNOT(wires=[1, 2])\n",
        "    qml.CNOT(wires=[2, 0])\n",
        "    return [qml.expval(qml.PauliZ(i)) for i in range(n_qubits)]\n",
        "\n",
        "class QLSTMCell(nn.Module):\n",
        "    def __init__(self, input_size, hidden_size, n_qubits):\n",
        "        super().__init__()\n",
        "        weight_shapes = {\"weights\": (n_qubits, 3)}\n",
        "        self.qlayer = qml.qnn.TorchLayer(qlstm_circuit, weight_shapes)\n",
        "        self.fc = nn.Linear(input_size + hidden_size, n_qubits)\n",
        "        self.out = nn.Linear(n_qubits, hidden_size)\n",
        "    def forward(self, x, h):\n",
        "        combined = torch.cat([x, h], dim=-1)\n",
        "        q_in = self.fc(combined)\n",
        "        q_out = self.qlayer(q_in)\n",
        "        return torch.tanh(self.out(q_out))\n",
        "\n",
        "class QLSTM_Generator(nn.Module):\n",
        "    def __init__(self, input_size, hidden_size, n_qubits, vocab_size):\n",
        "        super().__init__()\n",
        "        self.hidden_size = hidden_size\n",
        "        self.cell = QLSTMCell(input_size, hidden_size, n_qubits)\n",
        "        self.decoder = nn.Linear(hidden_size, vocab_size)\n",
        "    def forward(self, input_seq):\n",
        "        h = torch.zeros(self.hidden_size)\n",
        "        for t in range(input_seq.shape[0]):\n",
        "            h = self.cell(input_seq[t], h)\n",
        "        return self.decoder(h)\n",
        "\n",
        "def entrenar_y_evaluar(model, train_data, test_data, epochs=100):\n",
        "    optimizer = optim.Adam(model.parameters(), lr=0.01)\n",
        "    criterion = nn.CrossEntropyLoss()\n",
        "    losses = []\n",
        "    for epoch in range(epochs):\n",
        "        total_loss = 0\n",
        "        for frase, label in train_data:\n",
        "            x = phrase_to_tensor(frase)\n",
        "            y = label_to_tensor(label)\n",
        "            pred = model(x)\n",
        "            loss = criterion(pred.unsqueeze(0), y)\n",
        "            optimizer.zero_grad()\n",
        "            loss.backward()\n",
        "            optimizer.step()\n",
        "            total_loss += loss.item()\n",
        "        losses.append(total_loss)\n",
        "        if epoch % 10 == 0:\n",
        "            print(f\"Epoch {epoch}, Loss: {total_loss:.4f}\")\n",
        "\n",
        "    print(\"\\nGeneraciones de ejemplo:\")\n",
        "    correct = 0\n",
        "    for frase, label in test_data:\n",
        "        x = phrase_to_tensor(frase)\n",
        "        with torch.no_grad():\n",
        "            logits = model(x)\n",
        "            pred_idx = torch.argmax(logits).item()\n",
        "            pred = idx2word[pred_idx]\n",
        "            print(f\"Input: {' '.join(frase)} -> Predicción: {pred} | Real: {label}\")\n",
        "            if pred == label:\n",
        "                correct += 1\n",
        "    acc = correct / len(test_data)\n",
        "    return losses, acc\n",
        "\n",
        "results = {}\n",
        "\n",
        "print(\"\\n=== LSTM clásico ===\")\n",
        "lstm = LSTM_Generator(input_size=vocab_size, hidden_size=8, vocab_size=vocab_size)\n",
        "losses_lstm, acc_lstm = entrenar_y_evaluar(lstm, train_examples, test_examples, epochs=100)\n",
        "results['Clásico'] = (losses_lstm, acc_lstm)\n",
        "\n",
        "print(\"\\n=== QLSTM híbrido ===\")\n",
        "qlstm = QLSTM_Generator(input_size=vocab_size, hidden_size=8, n_qubits=3, vocab_size=vocab_size)\n",
        "losses_qlstm, acc_qlstm = entrenar_y_evaluar(qlstm, train_examples, test_examples, epochs=100)\n",
        "results['Híbrido'] = (losses_qlstm, acc_qlstm)\n",
        "\n",
        "plt.figure(figsize=(6, 4))\n",
        "for modelo, (_, acc) in results.items():\n",
        "    plt.bar(modelo, acc, color={'Clásico': 'gray', 'Híbrido': 'blue'}[modelo])\n",
        "plt.ylim(0, 1.1)\n",
        "plt.title(\"Accuracy en generación de próxima palabra\")\n",
        "plt.ylabel(\"Accuracy\")\n",
        "plt.show()\n",
        "\n",
        "plt.figure(figsize=(8, 4))\n",
        "for modelo, (losses, _) in results.items():\n",
        "    plt.plot(losses, label=modelo, color={'Clásico': 'gray', 'Híbrido': 'blue'}[modelo])\n",
        "plt.xlabel(\"Época\")\n",
        "plt.ylabel(\"Loss total\")\n",
        "plt.title(\"Curva de pérdida\")\n",
        "plt.legend()\n",
        "plt.show()\n"
      ],
      "metadata": {
        "colab": {
          "base_uri": "https://localhost:8080/",
          "height": 1000
        },
        "id": "TjL82Y-OogX2",
        "outputId": "a5dad669-c5d0-4909-8e38-57d6c21addc3"
      },
      "execution_count": null,
      "outputs": [
        {
          "output_type": "stream",
          "name": "stdout",
          "text": [
            "\n",
            "=== LSTM clásico ===\n",
            "Epoch 0, Loss: 25.8864\n",
            "Epoch 10, Loss: 10.4447\n",
            "Epoch 20, Loss: 4.1279\n",
            "Epoch 30, Loss: 1.2772\n",
            "Epoch 40, Loss: 0.6153\n",
            "Epoch 50, Loss: 0.3774\n",
            "Epoch 60, Loss: 0.2605\n",
            "Epoch 70, Loss: 0.1929\n",
            "Epoch 80, Loss: 0.1495\n",
            "Epoch 90, Loss: 0.1198\n",
            "\n",
            "Generaciones de ejemplo:\n",
            "Input: nlp procesa el -> Predicción: texto | Real: texto\n",
            "Input: el modelo procesa -> Predicción: información | Real: información\n",
            "Input: computación cuántica procesa -> Predicción: información | Real: información\n",
            "Input: la computación nlp -> Predicción: modelo | Real: modelo\n",
            "Input: la computación cuántica -> Predicción: procesa | Real: procesa\n",
            "Input: la información texto -> Predicción: procesa | Real: procesa\n",
            "Input: la información entrena -> Predicción: nlp | Real: nlp\n",
            "Input: el modelo entrena -> Predicción: nlp | Real: nlp\n",
            "Input: computación entrena nlp -> Predicción: modelo | Real: modelo\n",
            "Input: el texto entrena -> Predicción: información | Real: información\n",
            "\n",
            "=== QLSTM híbrido ===\n",
            "Epoch 0, Loss: 27.2266\n",
            "Epoch 10, Loss: 14.7350\n",
            "Epoch 20, Loss: 7.6094\n",
            "Epoch 30, Loss: 3.3801\n",
            "Epoch 40, Loss: 1.1619\n",
            "Epoch 50, Loss: 0.5961\n",
            "Epoch 60, Loss: 0.3750\n",
            "Epoch 70, Loss: 0.2609\n",
            "Epoch 80, Loss: 0.1938\n",
            "Epoch 90, Loss: 0.1505\n",
            "\n",
            "Generaciones de ejemplo:\n",
            "Input: nlp procesa el -> Predicción: texto | Real: texto\n",
            "Input: el modelo procesa -> Predicción: información | Real: información\n",
            "Input: computación cuántica procesa -> Predicción: información | Real: información\n",
            "Input: la computación nlp -> Predicción: modelo | Real: modelo\n",
            "Input: la computación cuántica -> Predicción: procesa | Real: procesa\n",
            "Input: la información texto -> Predicción: procesa | Real: procesa\n",
            "Input: la información entrena -> Predicción: nlp | Real: nlp\n",
            "Input: el modelo entrena -> Predicción: nlp | Real: nlp\n",
            "Input: computación entrena nlp -> Predicción: modelo | Real: modelo\n",
            "Input: el texto entrena -> Predicción: información | Real: información\n"
          ]
        },
        {
          "output_type": "display_data",
          "data": {
            "text/plain": [
              "<Figure size 600x400 with 1 Axes>"
            ],
            "image/png": "[encoded data removed]"
          },
          "metadata": {}
        },
        {
          "output_type": "display_data",
          "data": {
            "text/plain": [
              "<Figure size 800x400 with 1 Axes>"
            ],
            "image/png": "[encoded data removed]"
          },
          "metadata": {}
        }
      ]
    },
    {
      "cell_type": "code",
      "source": [
        "fig, ax = qml.draw_mpl(qlstm_circuit_explicit)(example_input, example_weights)\n",
        "plt.show()\n"
      ],
      "metadata": {
        "colab": {
          "base_uri": "https://localhost:8080/",
          "height": 436
        },
        "id": "K04iOQ15n1a7",
        "outputId": "fb9b407c-06d2-4e8e-fe40-f28c776abd32"
      },
      "execution_count": null,
      "outputs": [
        {
          "output_type": "display_data",
          "data": {
            "text/plain": [
              "<Figure size 800x400 with 1 Axes>"
            ],
            "image/png": "[encoded data removed]"
          },
          "metadata": {}
        }
      ]
    },
    {
      "cell_type": "code",
      "source": [
        "import pandas as pd\n",
        "import random\n",
        "import torch\n",
        "import torch.nn as nn\n",
        "import torch.optim as optim\n",
        "import numpy as np\n",
        "import matplotlib.pyplot as plt\n",
        "import pennylane as qml\n",
        "from tqdm import tqdm\n",
        "\n",
        "# =================== 1. Cargar y preparar el corpus ===================\n",
        "df = pd.read_csv(\"corpus_frases.csv\")\n",
        "frases = df[\"frase\"].dropna().tolist()\n",
        "tokenizadas = [f.lower().split() for f in frases if isinstance(f, str)]\n",
        "tokenizadas = [f for f in tokenizadas if len(f) >= 4 and all(w.isalpha() for w in f)]\n",
        "\n",
        "MAX_EJEMPLOS = 300\n",
        "tokenizadas = tokenizadas[:MAX_EJEMPLOS]\n",
        "\n",
        "palabras = sorted(set(word for frase in tokenizadas for word in frase))\n",
        "vocab_size = len(palabras)\n",
        "word2idx = {w: i for i, w in enumerate(palabras)}\n",
        "idx2word = {i: w for i, w in enumerate(palabras)}\n",
        "\n",
        "def generar_datos(corpus, tam_contexto=3):\n",
        "    ejemplos = []\n",
        "    for frase in corpus:\n",
        "        for i in range(len(frase) - tam_contexto):\n",
        "            entrada = frase[i:i+tam_contexto]\n",
        "            salida = frase[i+tam_contexto]\n",
        "            ejemplos.append((entrada, salida))\n",
        "    return ejemplos\n",
        "\n",
        "train_examples = generar_datos(tokenizadas, tam_contexto=3)\n",
        "test_examples = random.sample(train_examples, k=10)\n",
        "\n",
        "def phrase_to_tensor(phrase):\n",
        "    return torch.eye(vocab_size)[[word2idx[w] for w in phrase]]\n",
        "\n",
        "def label_to_tensor(label):\n",
        "    return torch.tensor([word2idx[label]])\n",
        "\n",
        "# =================== 2. Modelos ===================\n",
        "class LSTM_Generator(nn.Module):\n",
        "    def __init__(self, input_size, hidden_size, vocab_size):\n",
        "        super().__init__()\n",
        "        self.lstm = nn.LSTM(input_size=input_size, hidden_size=hidden_size, batch_first=True)\n",
        "        self.decoder = nn.Linear(hidden_size, vocab_size)\n",
        "    def forward(self, input_seq):\n",
        "        input_seq = input_seq.unsqueeze(0)\n",
        "        out, _ = self.lstm(input_seq)\n",
        "        final_hidden = out[0, -1]\n",
        "        return self.decoder(final_hidden)\n",
        "\n",
        "n_qubits = 3\n",
        "dev_hybrid = qml.device('default.qubit', wires=n_qubits)\n",
        "\n",
        "@qml.qnode(dev_hybrid, interface='torch')\n",
        "def qlstm_circuit(inputs, weights):\n",
        "    for i in range(n_qubits):\n",
        "        qml.RY(inputs[i], wires=i)\n",
        "        qml.Rot(*weights[i], wires=i)\n",
        "    qml.CNOT(wires=[0, 1])\n",
        "    qml.CNOT(wires=[1, 2])\n",
        "    qml.CNOT(wires=[2, 0])\n",
        "    return [qml.expval(qml.PauliZ(i)) for i in range(n_qubits)]\n",
        "\n",
        "class QLSTMCell(nn.Module):\n",
        "    def __init__(self, input_size, hidden_size, n_qubits):\n",
        "        super().__init__()\n",
        "        weight_shapes = {\"weights\": (n_qubits, 3)}\n",
        "        self.qlayer = qml.qnn.TorchLayer(qlstm_circuit, weight_shapes)\n",
        "        self.fc = nn.Linear(input_size + hidden_size, n_qubits)\n",
        "        self.out = nn.Linear(n_qubits, hidden_size)\n",
        "    def forward(self, x, h):\n",
        "        combined = torch.cat([x, h], dim=-1)\n",
        "        q_in = self.fc(combined)\n",
        "        q_out = self.qlayer(q_in)\n",
        "        return torch.tanh(self.out(q_out))\n",
        "\n",
        "class QLSTM_Generator(nn.Module):\n",
        "    def __init__(self, input_size, hidden_size, n_qubits, vocab_size):\n",
        "        super().__init__()\n",
        "        self.hidden_size = hidden_size\n",
        "        self.cell = QLSTMCell(input_size, hidden_size, n_qubits)\n",
        "        self.decoder = nn.Linear(hidden_size, vocab_size)\n",
        "    def forward(self, input_seq):\n",
        "        h = torch.zeros(self.hidden_size)\n",
        "        for t in range(input_seq.shape[0]):\n",
        "            h = self.cell(input_seq[t], h)\n",
        "        return self.decoder(h)\n",
        "\n",
        "# =================== 3. Entrenamiento y evaluación ===================\n",
        "def entrenar_y_evaluar(model, train_data, test_data, epochs=100):\n",
        "    optimizer = optim.Adam(model.parameters(), lr=0.01)\n",
        "    criterion = nn.CrossEntropyLoss()\n",
        "    losses = []\n",
        "    for epoch in range(epochs):\n",
        "        total_loss = 0\n",
        "        for frase, label in tqdm(train_data, desc=f\"Época {epoch+1}/{epochs}\"):\n",
        "            x = phrase_to_tensor(frase)\n",
        "            y = label_to_tensor(label)\n",
        "            pred = model(x)\n",
        "            loss = criterion(pred.unsqueeze(0), y)\n",
        "            optimizer.zero_grad()\n",
        "            loss.backward()\n",
        "            optimizer.step()\n",
        "            total_loss += loss.item()\n",
        "        losses.append(total_loss)\n",
        "        if epoch % 10 == 0:\n",
        "            print(f\"Epoch {epoch}, Loss: {total_loss:.4f}\")\n",
        "\n",
        "    print(\"\\nGeneraciones de ejemplo:\")\n",
        "    correct = 0\n",
        "    for frase, label in test_data:\n",
        "        x = phrase_to_tensor(frase)\n",
        "        with torch.no_grad():\n",
        "            logits = model(x)\n",
        "            pred_idx = torch.argmax(logits).item()\n",
        "            pred = idx2word[pred_idx]\n",
        "            print(f\"Input: {' '.join(frase)} -> Predicción: {pred} | Real: {label}\")\n",
        "            if pred == label:\n",
        "                correct += 1\n",
        "    acc = correct / len(test_data)\n",
        "    return losses, acc\n",
        "\n",
        "# =================== 4. Comparativa ===================\n",
        "results = {}\n",
        "\n",
        "print(\"\\n=== LSTM clásico ===\")\n",
        "lstm = LSTM_Generator(input_size=vocab_size, hidden_size=8, vocab_size=vocab_size)\n",
        "losses_lstm, acc_lstm = entrenar_y_evaluar(lstm, train_examples, test_examples, epochs=100)\n",
        "results['Clásico'] = (losses_lstm, acc_lstm)\n",
        "\n",
        "print(\"\\n=== QLSTM híbrido ===\")\n",
        "qlstm = QLSTM_Generator(input_size=vocab_size, hidden_size=8, n_qubits=3, vocab_size=vocab_size)\n",
        "losses_qlstm, acc_qlstm = entrenar_y_evaluar(qlstm, train_examples, test_examples, epochs=100)\n",
        "results['Híbrido'] = (losses_qlstm, acc_qlstm)\n",
        "\n",
        "# =================== 5. Gráficas ===================\n",
        "plt.figure(figsize=(6, 4))\n",
        "for modelo, (_, acc) in results.items():\n",
        "    plt.bar(modelo, acc, color={'Clásico': 'gray', 'Híbrido': 'blue'}[modelo])\n",
        "plt.ylim(0, 1.1)\n",
        "plt.title(\"Accuracy en generación de próxima palabra\")\n",
        "plt.ylabel(\"Accuracy\")\n",
        "plt.show()\n",
        "\n",
        "plt.figure(figsize=(8, 4))\n",
        "for modelo, (losses, _) in results.items():\n",
        "    plt.plot(losses, label=modelo, color={'Clásico': 'gray', 'Híbrido': 'blue'}[modelo])\n",
        "plt.xlabel(\"Época\")\n",
        "plt.ylabel(\"Loss total\")\n",
        "plt.title(\"Curva de pérdida\")\n",
        "plt.legend()\n",
        "plt.show()\n"
      ],
      "metadata": {
        "id": "xqP-tuLqqbmd",
        "colab": {
          "base_uri": "https://localhost:8080/",
          "height": 1000
        },
        "outputId": "4f5ec21c-d62c-4221-a5be-37ae5bf5a421"
      },
      "execution_count": null,
      "outputs": [
        {
          "output_type": "stream",
          "name": "stderr",
          "text": [
            "/usr/local/lib/python3.11/dist-packages/pennylane/capture/capture_operators.py:33: RuntimeWarning: PennyLane is not yet compatible with JAX versions > 0.4.28. You have version 0.5.2 installed. Please downgrade JAX to <=0.4.28 to avoid runtime errors.\n",
            "  warnings.warn(\n"
          ]
        },
        {
          "output_type": "stream",
          "name": "stdout",
          "text": [
            "\n",
            "=== LSTM clásico ===\n"
          ]
        },
        {
          "output_type": "stream",
          "name": "stderr",
          "text": [
            "Época 1/100: 100%|██████████| 186/186 [00:01<00:00, 185.34it/s]\n"
          ]
        },
        {
          "output_type": "stream",
          "name": "stdout",
          "text": [
            "Epoch 0, Loss: 775.2651\n"
          ]
        },
        {
          "output_type": "stream",
          "name": "stderr",
          "text": [
            "Época 2/100: 100%|██████████| 186/186 [00:00<00:00, 305.54it/s]\n",
            "Época 3/100: 100%|██████████| 186/186 [00:00<00:00, 277.28it/s]\n",
            "Época 4/100: 100%|██████████| 186/186 [00:00<00:00, 276.75it/s]\n",
            "Época 5/100: 100%|██████████| 186/186 [00:00<00:00, 317.68it/s]\n",
            "Época 6/100: 100%|██████████| 186/186 [00:00<00:00, 418.70it/s]\n",
            "Época 7/100: 100%|██████████| 186/186 [00:00<00:00, 433.86it/s]\n",
            "Época 8/100: 100%|██████████| 186/186 [00:00<00:00, 436.26it/s]\n",
            "Época 9/100: 100%|██████████| 186/186 [00:00<00:00, 448.37it/s]\n",
            "Época 10/100: 100%|██████████| 186/186 [00:00<00:00, 464.00it/s]\n",
            "Época 11/100: 100%|██████████| 186/186 [00:00<00:00, 460.76it/s]\n"
          ]
        },
        {
          "output_type": "stream",
          "name": "stdout",
          "text": [
            "Epoch 10, Loss: 195.8120\n"
          ]
        },
        {
          "output_type": "stream",
          "name": "stderr",
          "text": [
            "Época 12/100: 100%|██████████| 186/186 [00:00<00:00, 445.67it/s]\n",
            "Época 13/100: 100%|██████████| 186/186 [00:00<00:00, 440.15it/s]\n",
            "Época 14/100: 100%|██████████| 186/186 [00:00<00:00, 458.34it/s]\n",
            "Época 15/100: 100%|██████████| 186/186 [00:00<00:00, 469.96it/s]\n",
            "Época 16/100: 100%|██████████| 186/186 [00:00<00:00, 445.85it/s]\n",
            "Época 17/100: 100%|██████████| 186/186 [00:00<00:00, 425.96it/s]\n",
            "Época 18/100: 100%|██████████| 186/186 [00:00<00:00, 476.29it/s]\n",
            "Época 19/100: 100%|██████████| 186/186 [00:00<00:00, 467.01it/s]\n",
            "Época 20/100: 100%|██████████| 186/186 [00:00<00:00, 439.48it/s]\n",
            "Época 21/100: 100%|██████████| 186/186 [00:00<00:00, 447.06it/s]\n"
          ]
        },
        {
          "output_type": "stream",
          "name": "stdout",
          "text": [
            "Epoch 20, Loss: 57.4735\n"
          ]
        },
        {
          "output_type": "stream",
          "name": "stderr",
          "text": [
            "Época 22/100: 100%|██████████| 186/186 [00:00<00:00, 433.86it/s]\n",
            "Época 23/100: 100%|██████████| 186/186 [00:00<00:00, 467.22it/s]\n",
            "Época 24/100: 100%|██████████| 186/186 [00:00<00:00, 435.96it/s]\n",
            "Época 25/100: 100%|██████████| 186/186 [00:00<00:00, 453.97it/s]\n",
            "Época 26/100: 100%|██████████| 186/186 [00:00<00:00, 460.23it/s]\n",
            "Época 27/100: 100%|██████████| 186/186 [00:00<00:00, 343.34it/s]\n",
            "Época 28/100: 100%|██████████| 186/186 [00:00<00:00, 303.28it/s]\n",
            "Época 29/100: 100%|██████████| 186/186 [00:00<00:00, 324.46it/s]\n",
            "Época 30/100: 100%|██████████| 186/186 [00:00<00:00, 303.06it/s]\n",
            "Época 31/100: 100%|██████████| 186/186 [00:00<00:00, 321.20it/s]\n"
          ]
        },
        {
          "output_type": "stream",
          "name": "stdout",
          "text": [
            "Epoch 30, Loss: 22.8873\n"
          ]
        },
        {
          "output_type": "stream",
          "name": "stderr",
          "text": [
            "Época 32/100: 100%|██████████| 186/186 [00:00<00:00, 438.73it/s]\n",
            "Época 33/100: 100%|██████████| 186/186 [00:00<00:00, 451.30it/s]\n",
            "Época 34/100: 100%|██████████| 186/186 [00:00<00:00, 432.82it/s]\n",
            "Época 35/100: 100%|██████████| 186/186 [00:00<00:00, 425.19it/s]\n",
            "Época 36/100: 100%|██████████| 186/186 [00:00<00:00, 464.15it/s]\n",
            "Época 37/100: 100%|██████████| 186/186 [00:00<00:00, 454.01it/s]\n",
            "Época 38/100: 100%|██████████| 186/186 [00:00<00:00, 480.63it/s]\n",
            "Época 39/100: 100%|██████████| 186/186 [00:00<00:00, 469.88it/s]\n",
            "Época 40/100: 100%|██████████| 186/186 [00:00<00:00, 488.82it/s]\n",
            "Época 41/100: 100%|██████████| 186/186 [00:00<00:00, 473.83it/s]\n"
          ]
        },
        {
          "output_type": "stream",
          "name": "stdout",
          "text": [
            "Epoch 40, Loss: 7.9424\n"
          ]
        },
        {
          "output_type": "stream",
          "name": "stderr",
          "text": [
            "Época 42/100: 100%|██████████| 186/186 [00:00<00:00, 457.39it/s]\n",
            "Época 43/100: 100%|██████████| 186/186 [00:00<00:00, 482.37it/s]\n",
            "Época 44/100: 100%|██████████| 186/186 [00:00<00:00, 475.50it/s]\n",
            "Época 45/100: 100%|██████████| 186/186 [00:00<00:00, 458.05it/s]\n",
            "Época 46/100: 100%|██████████| 186/186 [00:00<00:00, 468.22it/s]\n",
            "Época 47/100: 100%|██████████| 186/186 [00:00<00:00, 438.63it/s]\n",
            "Época 48/100: 100%|██████████| 186/186 [00:00<00:00, 494.93it/s]\n",
            "Época 49/100: 100%|██████████| 186/186 [00:00<00:00, 465.78it/s]\n",
            "Época 50/100: 100%|██████████| 186/186 [00:00<00:00, 441.34it/s]\n",
            "Época 51/100: 100%|██████████| 186/186 [00:00<00:00, 485.91it/s]\n"
          ]
        },
        {
          "output_type": "stream",
          "name": "stdout",
          "text": [
            "Epoch 50, Loss: 3.7229\n"
          ]
        },
        {
          "output_type": "stream",
          "name": "stderr",
          "text": [
            "Época 52/100: 100%|██████████| 186/186 [00:00<00:00, 429.19it/s]\n",
            "Época 53/100: 100%|██████████| 186/186 [00:00<00:00, 488.02it/s]\n",
            "Época 54/100: 100%|██████████| 186/186 [00:00<00:00, 467.76it/s]\n",
            "Época 55/100: 100%|██████████| 186/186 [00:00<00:00, 453.04it/s]\n",
            "Época 56/100: 100%|██████████| 186/186 [00:00<00:00, 351.54it/s]\n",
            "Época 57/100: 100%|██████████| 186/186 [00:00<00:00, 285.88it/s]\n",
            "Época 58/100: 100%|██████████| 186/186 [00:00<00:00, 244.23it/s]\n",
            "Época 59/100: 100%|██████████| 186/186 [00:00<00:00, 243.01it/s]\n",
            "Época 60/100: 100%|██████████| 186/186 [00:00<00:00, 242.27it/s]\n",
            "Época 61/100: 100%|██████████| 186/186 [00:00<00:00, 238.64it/s]\n"
          ]
        },
        {
          "output_type": "stream",
          "name": "stdout",
          "text": [
            "Epoch 60, Loss: 1.7299\n"
          ]
        },
        {
          "output_type": "stream",
          "name": "stderr",
          "text": [
            "Época 62/100: 100%|██████████| 186/186 [00:00<00:00, 271.87it/s]\n",
            "Época 63/100: 100%|██████████| 186/186 [00:00<00:00, 320.51it/s]\n",
            "Época 64/100: 100%|██████████| 186/186 [00:00<00:00, 462.12it/s]\n",
            "Época 65/100: 100%|██████████| 186/186 [00:00<00:00, 402.68it/s]\n",
            "Época 66/100: 100%|██████████| 186/186 [00:00<00:00, 423.83it/s]\n",
            "Época 67/100: 100%|██████████| 186/186 [00:00<00:00, 430.92it/s]\n",
            "Época 68/100: 100%|██████████| 186/186 [00:00<00:00, 418.60it/s]\n",
            "Época 69/100: 100%|██████████| 186/186 [00:00<00:00, 459.29it/s]\n",
            "Época 70/100: 100%|██████████| 186/186 [00:00<00:00, 402.60it/s]\n",
            "Época 71/100: 100%|██████████| 186/186 [00:00<00:00, 453.88it/s]\n"
          ]
        },
        {
          "output_type": "stream",
          "name": "stdout",
          "text": [
            "Epoch 70, Loss: 1.6192\n"
          ]
        },
        {
          "output_type": "stream",
          "name": "stderr",
          "text": [
            "Época 72/100: 100%|██████████| 186/186 [00:00<00:00, 430.45it/s]\n",
            "Época 73/100: 100%|██████████| 186/186 [00:00<00:00, 476.11it/s]\n",
            "Época 74/100: 100%|██████████| 186/186 [00:00<00:00, 462.05it/s]\n",
            "Época 75/100: 100%|██████████| 186/186 [00:00<00:00, 442.65it/s]\n",
            "Época 76/100: 100%|██████████| 186/186 [00:00<00:00, 471.61it/s]\n",
            "Época 77/100: 100%|██████████| 186/186 [00:00<00:00, 419.16it/s]\n",
            "Época 78/100: 100%|██████████| 186/186 [00:00<00:00, 450.03it/s]\n",
            "Época 79/100: 100%|██████████| 186/186 [00:00<00:00, 440.63it/s]\n",
            "Época 80/100: 100%|██████████| 186/186 [00:00<00:00, 435.58it/s]\n",
            "Época 81/100: 100%|██████████| 186/186 [00:00<00:00, 425.78it/s]\n"
          ]
        },
        {
          "output_type": "stream",
          "name": "stdout",
          "text": [
            "Epoch 80, Loss: 0.9468\n"
          ]
        },
        {
          "output_type": "stream",
          "name": "stderr",
          "text": [
            "Época 82/100: 100%|██████████| 186/186 [00:00<00:00, 430.92it/s]\n",
            "Época 83/100: 100%|██████████| 186/186 [00:00<00:00, 478.42it/s]\n",
            "Época 84/100: 100%|██████████| 186/186 [00:00<00:00, 408.46it/s]\n",
            "Época 85/100: 100%|██████████| 186/186 [00:00<00:00, 294.31it/s]\n",
            "Época 86/100: 100%|██████████| 186/186 [00:00<00:00, 315.07it/s]\n",
            "Época 87/100: 100%|██████████| 186/186 [00:00<00:00, 335.76it/s]\n",
            "Época 88/100: 100%|██████████| 186/186 [00:00<00:00, 281.78it/s]\n",
            "Época 89/100: 100%|██████████| 186/186 [00:00<00:00, 338.20it/s]\n",
            "Época 90/100: 100%|██████████| 186/186 [00:00<00:00, 434.42it/s]\n",
            "Época 91/100: 100%|██████████| 186/186 [00:00<00:00, 439.72it/s]\n"
          ]
        },
        {
          "output_type": "stream",
          "name": "stdout",
          "text": [
            "Epoch 90, Loss: 0.5712\n"
          ]
        },
        {
          "output_type": "stream",
          "name": "stderr",
          "text": [
            "Época 92/100: 100%|██████████| 186/186 [00:00<00:00, 459.18it/s]\n",
            "Época 93/100: 100%|██████████| 186/186 [00:00<00:00, 427.10it/s]\n",
            "Época 94/100: 100%|██████████| 186/186 [00:00<00:00, 415.15it/s]\n",
            "Época 95/100: 100%|██████████| 186/186 [00:00<00:00, 262.37it/s]\n",
            "Época 96/100: 100%|██████████| 186/186 [00:00<00:00, 188.68it/s]\n",
            "Época 97/100: 100%|██████████| 186/186 [00:00<00:00, 205.52it/s]\n",
            "Época 98/100: 100%|██████████| 186/186 [00:00<00:00, 253.52it/s]\n",
            "Época 99/100: 100%|██████████| 186/186 [00:00<00:00, 186.13it/s]\n",
            "Época 100/100: 100%|██████████| 186/186 [00:00<00:00, 224.74it/s]\n"
          ]
        },
        {
          "output_type": "stream",
          "name": "stdout",
          "text": [
            "\n",
            "Generaciones de ejemplo:\n",
            "Input: la comunidad de -> Predicción: madrid | Real: madrid\n",
            "Input: con gravísimas consecuencias -> Predicción: mientras | Real: mientras\n",
            "Input: de lo previsto -> Predicción: según | Real: según\n",
            "Input: en dothan alabama -> Predicción: este | Real: este\n",
            "Input: en canarias los -> Predicción: vientos | Real: vientos\n",
            "Input: varios centros de -> Predicción: votación | Real: votación\n",
            "Input: de la suscripción -> Predicción: digital | Real: digital\n",
            "Input: condiciones de la -> Predicción: suscripción | Real: suscripción\n",
            "Input: están actuando a -> Predicción: pleno | Real: pleno\n",
            "Input: de la suscripción -> Predicción: digital | Real: digital\n",
            "\n",
            "=== QLSTM híbrido ===\n"
          ]
        },
        {
          "output_type": "stream",
          "name": "stderr",
          "text": [
            "Época 1/100: 100%|██████████| 186/186 [00:11<00:00, 15.58it/s]\n"
          ]
        },
        {
          "output_type": "stream",
          "name": "stdout",
          "text": [
            "Epoch 0, Loss: 828.2513\n"
          ]
        },
        {
          "output_type": "stream",
          "name": "stderr",
          "text": [
            "Época 2/100: 100%|██████████| 186/186 [00:09<00:00, 20.47it/s]\n",
            "Época 3/100: 100%|██████████| 186/186 [00:07<00:00, 24.19it/s]\n",
            "Época 4/100: 100%|██████████| 186/186 [00:07<00:00, 23.32it/s]\n",
            "Época 5/100: 100%|██████████| 186/186 [00:08<00:00, 22.48it/s]\n",
            "Época 6/100: 100%|██████████| 186/186 [00:07<00:00, 24.78it/s]\n",
            "Época 7/100: 100%|██████████| 186/186 [00:08<00:00, 22.44it/s]\n",
            "Época 8/100: 100%|██████████| 186/186 [00:08<00:00, 22.30it/s]\n",
            "Época 9/100: 100%|██████████| 186/186 [00:07<00:00, 24.28it/s]\n",
            "Época 10/100: 100%|██████████| 186/186 [00:09<00:00, 19.31it/s]\n",
            "Época 11/100: 100%|██████████| 186/186 [00:08<00:00, 22.70it/s]\n"
          ]
        },
        {
          "output_type": "stream",
          "name": "stdout",
          "text": [
            "Epoch 10, Loss: 487.3095\n"
          ]
        },
        {
          "output_type": "stream",
          "name": "stderr",
          "text": [
            "Época 12/100: 100%|██████████| 186/186 [00:07<00:00, 24.48it/s]\n",
            "Época 13/100: 100%|██████████| 186/186 [00:08<00:00, 21.66it/s]\n",
            "Época 14/100: 100%|██████████| 186/186 [00:08<00:00, 22.23it/s]\n",
            "Época 15/100: 100%|██████████| 186/186 [00:07<00:00, 24.58it/s]\n",
            "Época 16/100: 100%|██████████| 186/186 [00:08<00:00, 22.52it/s]\n",
            "Época 17/100: 100%|██████████| 186/186 [00:07<00:00, 24.55it/s]\n",
            "Época 18/100: 100%|██████████| 186/186 [00:07<00:00, 23.25it/s]\n",
            "Época 19/100: 100%|██████████| 186/186 [00:10<00:00, 17.20it/s]\n",
            "Época 20/100: 100%|██████████| 186/186 [00:08<00:00, 22.45it/s]\n",
            "Época 21/100: 100%|██████████| 186/186 [00:08<00:00, 22.28it/s]\n"
          ]
        },
        {
          "output_type": "stream",
          "name": "stdout",
          "text": [
            "Epoch 20, Loss: 436.3036\n"
          ]
        },
        {
          "output_type": "stream",
          "name": "stderr",
          "text": [
            "Época 22/100: 100%|██████████| 186/186 [00:09<00:00, 19.32it/s]\n",
            "Época 23/100: 100%|██████████| 186/186 [00:07<00:00, 23.63it/s]\n",
            "Época 24/100: 100%|██████████| 186/186 [00:08<00:00, 22.24it/s]\n",
            "Época 25/100: 100%|██████████| 186/186 [00:08<00:00, 21.61it/s]\n",
            "Época 26/100: 100%|██████████| 186/186 [00:07<00:00, 23.50it/s]\n",
            "Época 27/100: 100%|██████████| 186/186 [00:08<00:00, 21.93it/s]\n",
            "Época 28/100: 100%|██████████| 186/186 [00:08<00:00, 21.51it/s]\n",
            "Época 29/100: 100%|██████████| 186/186 [00:09<00:00, 20.61it/s]\n",
            "Época 30/100: 100%|██████████| 186/186 [00:08<00:00, 21.54it/s]\n",
            "Época 31/100: 100%|██████████| 186/186 [00:08<00:00, 21.77it/s]\n"
          ]
        },
        {
          "output_type": "stream",
          "name": "stdout",
          "text": [
            "Epoch 30, Loss: 407.3925\n"
          ]
        },
        {
          "output_type": "stream",
          "name": "stderr",
          "text": [
            "Época 32/100: 100%|██████████| 186/186 [00:08<00:00, 23.15it/s]\n",
            "Época 33/100: 100%|██████████| 186/186 [00:08<00:00, 21.66it/s]\n",
            "Época 34/100: 100%|██████████| 186/186 [00:08<00:00, 21.03it/s]\n",
            "Época 35/100: 100%|██████████| 186/186 [00:08<00:00, 23.20it/s]\n",
            "Época 36/100: 100%|██████████| 186/186 [00:08<00:00, 22.91it/s]\n",
            "Época 37/100: 100%|██████████| 186/186 [00:08<00:00, 21.92it/s]\n",
            "Época 38/100: 100%|██████████| 186/186 [00:07<00:00, 24.44it/s]\n",
            "Época 39/100: 100%|██████████| 186/186 [00:08<00:00, 22.17it/s]\n",
            "Época 40/100: 100%|██████████| 186/186 [00:08<00:00, 22.11it/s]\n",
            "Época 41/100: 100%|██████████| 186/186 [00:07<00:00, 23.88it/s]\n"
          ]
        },
        {
          "output_type": "stream",
          "name": "stdout",
          "text": [
            "Epoch 40, Loss: 354.9066\n"
          ]
        },
        {
          "output_type": "stream",
          "name": "stderr",
          "text": [
            "Época 42/100: 100%|██████████| 186/186 [00:08<00:00, 22.04it/s]\n",
            "Época 43/100: 100%|██████████| 186/186 [00:08<00:00, 21.84it/s]\n",
            "Época 44/100: 100%|██████████| 186/186 [00:07<00:00, 23.54it/s]\n",
            "Época 45/100: 100%|██████████| 186/186 [00:08<00:00, 21.78it/s]\n",
            "Época 46/100: 100%|██████████| 186/186 [00:09<00:00, 20.59it/s]\n",
            "Época 47/100: 100%|██████████| 186/186 [00:08<00:00, 21.35it/s]\n",
            "Época 48/100: 100%|██████████| 186/186 [00:08<00:00, 21.50it/s]\n",
            "Época 49/100: 100%|██████████| 186/186 [00:09<00:00, 20.28it/s]\n",
            "Época 50/100: 100%|██████████| 186/186 [00:08<00:00, 22.40it/s]\n",
            "Época 51/100: 100%|██████████| 186/186 [00:08<00:00, 21.55it/s]\n"
          ]
        },
        {
          "output_type": "stream",
          "name": "stdout",
          "text": [
            "Epoch 50, Loss: 324.5020\n"
          ]
        },
        {
          "output_type": "stream",
          "name": "stderr",
          "text": [
            "Época 52/100: 100%|██████████| 186/186 [00:08<00:00, 21.59it/s]\n",
            "Época 53/100: 100%|██████████| 186/186 [00:07<00:00, 23.50it/s]\n",
            "Época 54/100: 100%|██████████| 186/186 [00:08<00:00, 21.67it/s]\n",
            "Época 55/100: 100%|██████████| 186/186 [00:08<00:00, 20.76it/s]\n",
            "Época 56/100: 100%|██████████| 186/186 [00:08<00:00, 21.57it/s]\n",
            "Época 57/100: 100%|██████████| 186/186 [00:08<00:00, 20.93it/s]\n",
            "Época 58/100: 100%|██████████| 186/186 [00:09<00:00, 19.46it/s]\n",
            "Época 59/100: 100%|██████████| 186/186 [00:08<00:00, 21.48it/s]\n",
            "Época 60/100: 100%|██████████| 186/186 [00:08<00:00, 22.96it/s]\n",
            "Época 61/100: 100%|██████████| 186/186 [00:09<00:00, 20.51it/s]\n"
          ]
        },
        {
          "output_type": "stream",
          "name": "stdout",
          "text": [
            "Epoch 60, Loss: 307.1249\n"
          ]
        },
        {
          "output_type": "stream",
          "name": "stderr",
          "text": [
            "Época 62/100: 100%|██████████| 186/186 [00:09<00:00, 20.63it/s]\n",
            "Época 63/100: 100%|██████████| 186/186 [00:08<00:00, 22.80it/s]\n",
            "Época 64/100: 100%|██████████| 186/186 [00:09<00:00, 20.32it/s]\n",
            "Época 65/100: 100%|██████████| 186/186 [00:09<00:00, 20.50it/s]\n",
            "Época 66/100: 100%|██████████| 186/186 [00:07<00:00, 24.60it/s]\n",
            "Época 67/100: 100%|██████████| 186/186 [00:08<00:00, 22.43it/s]\n",
            "Época 68/100: 100%|██████████| 186/186 [00:08<00:00, 22.50it/s]\n",
            "Época 69/100: 100%|██████████| 186/186 [00:07<00:00, 24.77it/s]\n",
            "Época 70/100: 100%|██████████| 186/186 [00:08<00:00, 22.45it/s]\n",
            "Época 71/100: 100%|██████████| 186/186 [00:08<00:00, 21.93it/s]\n"
          ]
        },
        {
          "output_type": "stream",
          "name": "stdout",
          "text": [
            "Epoch 70, Loss: 265.7366\n"
          ]
        },
        {
          "output_type": "stream",
          "name": "stderr",
          "text": [
            "Época 72/100: 100%|██████████| 186/186 [00:08<00:00, 21.22it/s]\n",
            "Época 73/100: 100%|██████████| 186/186 [00:08<00:00, 22.40it/s]\n",
            "Época 74/100: 100%|██████████| 186/186 [00:07<00:00, 24.85it/s]\n",
            "Época 75/100: 100%|██████████| 186/186 [00:08<00:00, 22.59it/s]\n",
            "Época 76/100: 100%|██████████| 186/186 [00:08<00:00, 22.56it/s]\n",
            "Época 77/100: 100%|██████████| 186/186 [00:07<00:00, 24.76it/s]\n",
            "Época 78/100: 100%|██████████| 186/186 [00:08<00:00, 22.47it/s]\n",
            "Época 79/100: 100%|██████████| 186/186 [00:08<00:00, 23.01it/s]\n",
            "Época 80/100: 100%|██████████| 186/186 [00:07<00:00, 24.39it/s]\n",
            "Época 81/100: 100%|██████████| 186/186 [00:08<00:00, 22.49it/s]\n"
          ]
        },
        {
          "output_type": "stream",
          "name": "stdout",
          "text": [
            "Epoch 80, Loss: 266.0926\n"
          ]
        },
        {
          "output_type": "stream",
          "name": "stderr",
          "text": [
            "Época 82/100: 100%|██████████| 186/186 [00:07<00:00, 24.57it/s]\n",
            "Época 83/100: 100%|██████████| 186/186 [00:08<00:00, 22.62it/s]\n",
            "Época 84/100: 100%|██████████| 186/186 [00:08<00:00, 21.87it/s]\n",
            "Época 85/100: 100%|██████████| 186/186 [00:07<00:00, 24.26it/s]\n",
            "Época 86/100: 100%|██████████| 186/186 [00:08<00:00, 22.42it/s]\n",
            "Época 87/100: 100%|██████████| 186/186 [00:08<00:00, 21.59it/s]\n",
            "Época 88/100: 100%|██████████| 186/186 [00:07<00:00, 24.61it/s]\n",
            "Época 89/100: 100%|██████████| 186/186 [00:08<00:00, 22.25it/s]\n",
            "Época 90/100: 100%|██████████| 186/186 [00:08<00:00, 21.78it/s]\n",
            "Época 91/100: 100%|██████████| 186/186 [00:08<00:00, 21.00it/s]\n"
          ]
        },
        {
          "output_type": "stream",
          "name": "stdout",
          "text": [
            "Epoch 90, Loss: 253.8077\n"
          ]
        },
        {
          "output_type": "stream",
          "name": "stderr",
          "text": [
            "Época 92/100: 100%|██████████| 186/186 [00:09<00:00, 18.74it/s]\n",
            "Época 93/100: 100%|██████████| 186/186 [00:08<00:00, 22.49it/s]\n",
            "Época 94/100: 100%|██████████| 186/186 [00:07<00:00, 24.94it/s]\n",
            "Época 95/100: 100%|██████████| 186/186 [00:08<00:00, 22.98it/s]\n",
            "Época 96/100: 100%|██████████| 186/186 [00:07<00:00, 24.96it/s]\n",
            "Época 97/100: 100%|██████████| 186/186 [00:08<00:00, 20.99it/s]\n",
            "Época 98/100: 100%|██████████| 186/186 [00:08<00:00, 22.72it/s]\n",
            "Época 99/100: 100%|██████████| 186/186 [00:07<00:00, 24.72it/s]\n",
            "Época 100/100: 100%|██████████| 186/186 [00:08<00:00, 22.97it/s]\n"
          ]
        },
        {
          "output_type": "stream",
          "name": "stdout",
          "text": [
            "\n",
            "Generaciones de ejemplo:\n",
            "Input: la comunidad de -> Predicción: un | Real: madrid\n",
            "Input: con gravísimas consecuencias -> Predicción: mientras | Real: mientras\n",
            "Input: de lo previsto -> Predicción: autoridades | Real: según\n",
            "Input: en dothan alabama -> Predicción: su | Real: este\n",
            "Input: en canarias los -> Predicción: su | Real: vientos\n",
            "Input: varios centros de -> Predicción: la | Real: votación\n",
            "Input: de la suscripción -> Predicción: digital | Real: digital\n",
            "Input: condiciones de la -> Predicción: suscripción | Real: suscripción\n",
            "Input: están actuando a -> Predicción: los | Real: pleno\n",
            "Input: de la suscripción -> Predicción: digital | Real: digital\n"
          ]
        },
        {
          "output_type": "display_data",
          "data": {
            "text/plain": [
              "<Figure size 600x400 with 1 Axes>"
            ],
            "image/png": "[encoded data removed]"
          },
          "metadata": {}
        },
        {
          "output_type": "display_data",
          "data": {
            "text/plain": [
              "<Figure size 800x400 with 1 Axes>"
            ],
            "image/png": "[encoded data removed]"
          },
          "metadata": {}
        }
      ]
    }
  ]
}